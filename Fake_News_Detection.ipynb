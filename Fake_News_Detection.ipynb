{
  "nbformat": 4,
  "nbformat_minor": 0,
  "metadata": {
    "colab": {
      "name": "Fake News Detection.ipynb",
      "provenance": [],
      "collapsed_sections": [],
      "toc_visible": true
    },
    "kernelspec": {
      "name": "python3",
      "display_name": "Python 3"
    }
  },
  "cells": [
    {
      "cell_type": "markdown",
      "metadata": {
        "id": "WOw8yMd1VlnD",
        "colab_type": "text"
      },
      "source": [
        "# Fake News Detection"
      ]
    },
    {
      "cell_type": "markdown",
      "metadata": {
        "id": "NvUGC8QQV6bV",
        "colab_type": "text"
      },
      "source": [
        "## Importing the libraries"
      ]
    },
    {
      "cell_type": "code",
      "metadata": {
        "id": "wfFEXZC0WS-V",
        "colab_type": "code",
        "colab": {}
      },
      "source": [
        "import pandas as pd\n",
        "import numpy as np\n",
        "from sklearn import metrics\n",
        "import matplotlib.pyplot as plt"
      ],
      "execution_count": 0,
      "outputs": []
    },
    {
      "cell_type": "markdown",
      "metadata": {
        "id": "fhYaZ-ENV_c5",
        "colab_type": "text"
      },
      "source": [
        "## Importing the dataset"
      ]
    },
    {
      "cell_type": "code",
      "metadata": {
        "id": "aqHTg9bxWT_u",
        "colab_type": "code",
        "colab": {}
      },
      "source": [
        "dataset = pd.read_csv('news.csv')\n",
        "dataset.head()\n",
        "dataset.set_index('Unnamed: 0')\n",
        "y = dataset.label\n",
        "X = dataset[['Unnamed: 0', 'title', 'text']].copy()"
      ],
      "execution_count": 0,
      "outputs": []
    },
    {
      "cell_type": "markdown",
      "metadata": {
        "id": "3abSxRqvWEIB",
        "colab_type": "text"
      },
      "source": [
        "## Splitting the dataset into the Training set and Test set"
      ]
    },
    {
      "cell_type": "code",
      "metadata": {
        "id": "hm48sif-WWsh",
        "colab_type": "code",
        "colab": {}
      },
      "source": [
        "from sklearn.model_selection import train_test_split\n",
        "X_train, X_test, y_train, y_test = train_test_split(X['text'], y, test_size = 0.2, random_state = 1)"
      ],
      "execution_count": 0,
      "outputs": []
    },
    {
      "cell_type": "markdown",
      "metadata": {
        "id": "rm1TE5-dFs_g",
        "colab_type": "text"
      },
      "source": [
        "## Building TfidfVectorizer Classifier on Dataset"
      ]
    },
    {
      "cell_type": "code",
      "metadata": {
        "id": "mxFVKAwTHTYY",
        "colab_type": "code",
        "colab": {}
      },
      "source": [
        "from sklearn.feature_extraction.text import TfidfVectorizer\n",
        "TfidfVectorizer = TfidfVectorizer(stop_words='english', max_df=0.65)\n",
        "Tfidf_Train = TfidfVectorizer.fit_transform(X_train)\n",
        "Tfidf_Test = TfidfVectorizer.transform(X_test)"
      ],
      "execution_count": 0,
      "outputs": []
    },
    {
      "cell_type": "markdown",
      "metadata": {
        "id": "K5w8mr_4XYRo",
        "colab_type": "text"
      },
      "source": [
        "## Fitting model on PassiveAggressive Classifier "
      ]
    },
    {
      "cell_type": "code",
      "metadata": {
        "id": "X_MOSNCPyjxv",
        "colab_type": "code",
        "colab": {
          "base_uri": "https://localhost:8080/",
          "height": 68
        },
        "outputId": "d3f20d95-a989-4513-961a-1eb10c2e7775"
      },
      "source": [
        "from sklearn.linear_model import PassiveAggressiveClassifier\n",
        "PassiveAggressive_Classifier = PassiveAggressiveClassifier(max_iter=100)\n",
        "PassiveAggressive_Classifier.fit(Tfidf_Train, y_train)\n",
        "y_pred = PassiveAggressive_Classifier.predict(Tfidf_Test)\n",
        "accuracy_score = metrics.accuracy_score(y_test, y_pred)\n",
        "print(\"accuracy score = %0.4f\" % accuracy_score)\n",
        "cm = metrics.confusion_matrix(y_test, y_pred)\n",
        "cm"
      ],
      "execution_count": 5,
      "outputs": [
        {
          "output_type": "stream",
          "text": [
            "accuracy score = 0.9440\n"
          ],
          "name": "stdout"
        },
        {
          "output_type": "execute_result",
          "data": {
            "text/plain": [
              "array([[614,  37],\n",
              "       [ 34, 582]])"
            ]
          },
          "metadata": {
            "tags": []
          },
          "execution_count": 5
        }
      ]
    }
  ]
}